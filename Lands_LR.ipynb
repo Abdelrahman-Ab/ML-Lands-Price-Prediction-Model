{
 "cells": [
  {
   "cell_type": "code",
   "execution_count": 40,
   "id": "2cc43ec6-c46c-4467-bbeb-77185cbaf64a",
   "metadata": {},
   "outputs": [],
   "source": [
    "import pandas as pd\n",
    "import numpy as np\n",
    "from sklearn.compose import ColumnTransformer\n",
    "from sklearn.preprocessing import OneHotEncoder\n",
    "from sklearn.model_selection import train_test_split\n",
    "from sklearn.linear_model import LinearRegression\n",
    "from sklearn.metrics import mean_squared_error\n",
    "from sklearn.metrics import r2_score"
   ]
  },
  {
   "cell_type": "code",
   "execution_count": 10,
   "id": "bd7f32b1-8822-4a69-8b43-388b82d68376",
   "metadata": {},
   "outputs": [
    {
     "data": {
      "text/html": [
       "<div>\n",
       "<style scoped>\n",
       "    .dataframe tbody tr th:only-of-type {\n",
       "        vertical-align: middle;\n",
       "    }\n",
       "\n",
       "    .dataframe tbody tr th {\n",
       "        vertical-align: top;\n",
       "    }\n",
       "\n",
       "    .dataframe thead th {\n",
       "        text-align: right;\n",
       "    }\n",
       "</style>\n",
       "<table border=\"1\" class=\"dataframe\">\n",
       "  <thead>\n",
       "    <tr style=\"text-align: right;\">\n",
       "      <th></th>\n",
       "      <th>Lands</th>\n",
       "      <th>Land_location</th>\n",
       "      <th>Land_area</th>\n",
       "      <th>Special_location</th>\n",
       "      <th>Soil_type</th>\n",
       "      <th>Utilities_Availability</th>\n",
       "      <th>Pollution</th>\n",
       "      <th>Land_price</th>\n",
       "    </tr>\n",
       "  </thead>\n",
       "  <tbody>\n",
       "    <tr>\n",
       "      <th>0</th>\n",
       "      <td>Land_1</td>\n",
       "      <td>New Capital City</td>\n",
       "      <td>383.0</td>\n",
       "      <td>Yes</td>\n",
       "      <td>Gravel</td>\n",
       "      <td>Yes</td>\n",
       "      <td>Low</td>\n",
       "      <td>30000000</td>\n",
       "    </tr>\n",
       "    <tr>\n",
       "      <th>1</th>\n",
       "      <td>Land_2</td>\n",
       "      <td>New Capital City</td>\n",
       "      <td>384.0</td>\n",
       "      <td>Yes</td>\n",
       "      <td>Gravel</td>\n",
       "      <td>Yes</td>\n",
       "      <td>Low</td>\n",
       "      <td>30000001</td>\n",
       "    </tr>\n",
       "    <tr>\n",
       "      <th>2</th>\n",
       "      <td>Land_3</td>\n",
       "      <td>New Capital City</td>\n",
       "      <td>385.0</td>\n",
       "      <td>Yes</td>\n",
       "      <td>Gravel</td>\n",
       "      <td>Yes</td>\n",
       "      <td>Low</td>\n",
       "      <td>30000002</td>\n",
       "    </tr>\n",
       "    <tr>\n",
       "      <th>3</th>\n",
       "      <td>Land_4</td>\n",
       "      <td>New Capital City</td>\n",
       "      <td>386.0</td>\n",
       "      <td>Yes</td>\n",
       "      <td>Gravel</td>\n",
       "      <td>Yes</td>\n",
       "      <td>Low</td>\n",
       "      <td>30000003</td>\n",
       "    </tr>\n",
       "    <tr>\n",
       "      <th>4</th>\n",
       "      <td>Land_5</td>\n",
       "      <td>New Capital City</td>\n",
       "      <td>387.0</td>\n",
       "      <td>Yes</td>\n",
       "      <td>Gravel</td>\n",
       "      <td>Yes</td>\n",
       "      <td>Low</td>\n",
       "      <td>30000004</td>\n",
       "    </tr>\n",
       "    <tr>\n",
       "      <th>...</th>\n",
       "      <td>...</td>\n",
       "      <td>...</td>\n",
       "      <td>...</td>\n",
       "      <td>...</td>\n",
       "      <td>...</td>\n",
       "      <td>...</td>\n",
       "      <td>...</td>\n",
       "      <td>...</td>\n",
       "    </tr>\n",
       "    <tr>\n",
       "      <th>1995</th>\n",
       "      <td>Land_1996</td>\n",
       "      <td>Badr City</td>\n",
       "      <td>420.0</td>\n",
       "      <td>Yes</td>\n",
       "      <td>Gravel</td>\n",
       "      <td>Yes</td>\n",
       "      <td>Low</td>\n",
       "      <td>10000000</td>\n",
       "    </tr>\n",
       "    <tr>\n",
       "      <th>1996</th>\n",
       "      <td>Land_1997</td>\n",
       "      <td>Badr City</td>\n",
       "      <td>421.0</td>\n",
       "      <td>Yes</td>\n",
       "      <td>Gravel</td>\n",
       "      <td>Yes</td>\n",
       "      <td>Low</td>\n",
       "      <td>10000001</td>\n",
       "    </tr>\n",
       "    <tr>\n",
       "      <th>1997</th>\n",
       "      <td>Land_1998</td>\n",
       "      <td>Badr City</td>\n",
       "      <td>422.0</td>\n",
       "      <td>Yes</td>\n",
       "      <td>Gravel</td>\n",
       "      <td>Yes</td>\n",
       "      <td>Low</td>\n",
       "      <td>10000002</td>\n",
       "    </tr>\n",
       "    <tr>\n",
       "      <th>1998</th>\n",
       "      <td>Land_1999</td>\n",
       "      <td>Badr City</td>\n",
       "      <td>423.0</td>\n",
       "      <td>Yes</td>\n",
       "      <td>Gravel</td>\n",
       "      <td>Yes</td>\n",
       "      <td>Low</td>\n",
       "      <td>10000003</td>\n",
       "    </tr>\n",
       "    <tr>\n",
       "      <th>1999</th>\n",
       "      <td>Land_2000</td>\n",
       "      <td>Badr City</td>\n",
       "      <td>424.0</td>\n",
       "      <td>Yes</td>\n",
       "      <td>Gravel</td>\n",
       "      <td>Yes</td>\n",
       "      <td>Low</td>\n",
       "      <td>10000004</td>\n",
       "    </tr>\n",
       "  </tbody>\n",
       "</table>\n",
       "<p>2000 rows × 8 columns</p>\n",
       "</div>"
      ],
      "text/plain": [
       "          Lands     Land_location  Land_area Special_location Soil_type  \\\n",
       "0        Land_1  New Capital City      383.0              Yes    Gravel   \n",
       "1        Land_2  New Capital City      384.0              Yes    Gravel   \n",
       "2        Land_3  New Capital City      385.0              Yes    Gravel   \n",
       "3        Land_4  New Capital City      386.0              Yes    Gravel   \n",
       "4        Land_5  New Capital City      387.0              Yes    Gravel   \n",
       "...         ...               ...        ...              ...       ...   \n",
       "1995  Land_1996         Badr City      420.0              Yes    Gravel   \n",
       "1996  Land_1997         Badr City      421.0              Yes    Gravel   \n",
       "1997  Land_1998         Badr City      422.0              Yes    Gravel   \n",
       "1998  Land_1999         Badr City      423.0              Yes    Gravel   \n",
       "1999  Land_2000         Badr City      424.0              Yes    Gravel   \n",
       "\n",
       "     Utilities_Availability Pollution  Land_price  \n",
       "0                       Yes       Low    30000000  \n",
       "1                       Yes       Low    30000001  \n",
       "2                       Yes       Low    30000002  \n",
       "3                       Yes       Low    30000003  \n",
       "4                       Yes       Low    30000004  \n",
       "...                     ...       ...         ...  \n",
       "1995                    Yes       Low    10000000  \n",
       "1996                    Yes       Low    10000001  \n",
       "1997                    Yes       Low    10000002  \n",
       "1998                    Yes       Low    10000003  \n",
       "1999                    Yes       Low    10000004  \n",
       "\n",
       "[2000 rows x 8 columns]"
      ]
     },
     "execution_count": 10,
     "metadata": {},
     "output_type": "execute_result"
    }
   ],
   "source": [
    "dataset"
   ]
  },
  {
   "cell_type": "code",
   "execution_count": 14,
   "id": "77c0530c-b8de-4cd3-a40c-c5660a343e2e",
   "metadata": {},
   "outputs": [
    {
     "name": "stdout",
     "output_type": "stream",
     "text": [
      "         Land_location  Land_area Special_location Soil_type  \\\n",
      "0     New Capital City      383.0              Yes    Gravel   \n",
      "1     New Capital City      384.0              Yes    Gravel   \n",
      "2     New Capital City      385.0              Yes    Gravel   \n",
      "3     New Capital City      386.0              Yes    Gravel   \n",
      "4     New Capital City      387.0              Yes    Gravel   \n",
      "...                ...        ...              ...       ...   \n",
      "1995         Badr City      420.0              Yes    Gravel   \n",
      "1996         Badr City      421.0              Yes    Gravel   \n",
      "1997         Badr City      422.0              Yes    Gravel   \n",
      "1998         Badr City      423.0              Yes    Gravel   \n",
      "1999         Badr City      424.0              Yes    Gravel   \n",
      "\n",
      "     Utilities_Availability Pollution  \n",
      "0                       Yes       Low  \n",
      "1                       Yes       Low  \n",
      "2                       Yes       Low  \n",
      "3                       Yes       Low  \n",
      "4                       Yes       Low  \n",
      "...                     ...       ...  \n",
      "1995                    Yes       Low  \n",
      "1996                    Yes       Low  \n",
      "1997                    Yes       Low  \n",
      "1998                    Yes       Low  \n",
      "1999                    Yes       Low  \n",
      "\n",
      "[2000 rows x 6 columns]\n",
      "***********************************************************************\n",
      "0       30000000\n",
      "1       30000001\n",
      "2       30000002\n",
      "3       30000003\n",
      "4       30000004\n",
      "          ...   \n",
      "1995    10000000\n",
      "1996    10000001\n",
      "1997    10000002\n",
      "1998    10000003\n",
      "1999    10000004\n",
      "Name: Land_price, Length: 2000, dtype: int64\n"
     ]
    }
   ],
   "source": [
    "dataset = pd.read_csv('Cleaned_Lands.csv')\n",
    "X = dataset.drop(columns=['Lands', 'Land_price'])\n",
    "y = dataset['Land_price']\n",
    "\n",
    "print(X)\n",
    "print(\"***********************************************************************\")\n",
    "print(y)"
   ]
  },
  {
   "cell_type": "code",
   "execution_count": 33,
   "id": "612071fd-8f3b-4feb-9740-1c9d2a2ae5f0",
   "metadata": {},
   "outputs": [],
   "source": [
    "X = dataset.drop(columns=['Lands', 'Land_price'])\n",
    "y = dataset['Land_price']\n",
    "\n",
    "categorical_features = ['Land_location', 'Special_location', 'Soil_type', 'Utilities_Availability', 'Pollution']\n",
    "numerical_features = ['Land_area']\n",
    "\n",
    "ct = ColumnTransformer(\n",
    "    transformers=[\n",
    "        ('encoder', OneHotEncoder(), categorical_features)\n",
    "    ],\n",
    "    remainder='passthrough'\n",
    ")\n",
    "\n",
    "X_encoded = ct.fit_transform(X)"
   ]
  },
  {
   "cell_type": "code",
   "execution_count": 34,
   "id": "da487877-15bf-4077-acfa-3ecf6f1989ce",
   "metadata": {},
   "outputs": [
    {
     "name": "stdout",
     "output_type": "stream",
     "text": [
      "[[  0.   0.   0. ...   1.   0. 383.]\n",
      " [  0.   0.   0. ...   1.   0. 384.]\n",
      " [  0.   0.   0. ...   1.   0. 385.]\n",
      " ...\n",
      " [  0.   1.   0. ...   1.   0. 422.]\n",
      " [  0.   1.   0. ...   1.   0. 423.]\n",
      " [  0.   1.   0. ...   1.   0. 424.]]\n"
     ]
    }
   ],
   "source": [
    "print(X_encoded)"
   ]
  },
  {
   "cell_type": "code",
   "execution_count": 35,
   "id": "408548a7-e981-49ad-ab5f-a1ec32ba8b1a",
   "metadata": {},
   "outputs": [],
   "source": [
    "X_train, X_test, y_train, y_test = train_test_split(X_encoded, y, test_size=0.2, random_state=42)"
   ]
  },
  {
   "cell_type": "code",
   "execution_count": 36,
   "id": "fe724e23-ac74-4dcc-94a6-4b546224f41a",
   "metadata": {},
   "outputs": [],
   "source": [
    "y_train = y_train.astype(float)"
   ]
  },
  {
   "cell_type": "code",
   "execution_count": 37,
   "id": "0d219feb-90cf-491e-bd63-4a7141368a69",
   "metadata": {},
   "outputs": [
    {
     "data": {
      "text/html": [
       "<style>#sk-container-id-1 {color: black;background-color: white;}#sk-container-id-1 pre{padding: 0;}#sk-container-id-1 div.sk-toggleable {background-color: white;}#sk-container-id-1 label.sk-toggleable__label {cursor: pointer;display: block;width: 100%;margin-bottom: 0;padding: 0.3em;box-sizing: border-box;text-align: center;}#sk-container-id-1 label.sk-toggleable__label-arrow:before {content: \"▸\";float: left;margin-right: 0.25em;color: #696969;}#sk-container-id-1 label.sk-toggleable__label-arrow:hover:before {color: black;}#sk-container-id-1 div.sk-estimator:hover label.sk-toggleable__label-arrow:before {color: black;}#sk-container-id-1 div.sk-toggleable__content {max-height: 0;max-width: 0;overflow: hidden;text-align: left;background-color: #f0f8ff;}#sk-container-id-1 div.sk-toggleable__content pre {margin: 0.2em;color: black;border-radius: 0.25em;background-color: #f0f8ff;}#sk-container-id-1 input.sk-toggleable__control:checked~div.sk-toggleable__content {max-height: 200px;max-width: 100%;overflow: auto;}#sk-container-id-1 input.sk-toggleable__control:checked~label.sk-toggleable__label-arrow:before {content: \"▾\";}#sk-container-id-1 div.sk-estimator input.sk-toggleable__control:checked~label.sk-toggleable__label {background-color: #d4ebff;}#sk-container-id-1 div.sk-label input.sk-toggleable__control:checked~label.sk-toggleable__label {background-color: #d4ebff;}#sk-container-id-1 input.sk-hidden--visually {border: 0;clip: rect(1px 1px 1px 1px);clip: rect(1px, 1px, 1px, 1px);height: 1px;margin: -1px;overflow: hidden;padding: 0;position: absolute;width: 1px;}#sk-container-id-1 div.sk-estimator {font-family: monospace;background-color: #f0f8ff;border: 1px dotted black;border-radius: 0.25em;box-sizing: border-box;margin-bottom: 0.5em;}#sk-container-id-1 div.sk-estimator:hover {background-color: #d4ebff;}#sk-container-id-1 div.sk-parallel-item::after {content: \"\";width: 100%;border-bottom: 1px solid gray;flex-grow: 1;}#sk-container-id-1 div.sk-label:hover label.sk-toggleable__label {background-color: #d4ebff;}#sk-container-id-1 div.sk-serial::before {content: \"\";position: absolute;border-left: 1px solid gray;box-sizing: border-box;top: 0;bottom: 0;left: 50%;z-index: 0;}#sk-container-id-1 div.sk-serial {display: flex;flex-direction: column;align-items: center;background-color: white;padding-right: 0.2em;padding-left: 0.2em;position: relative;}#sk-container-id-1 div.sk-item {position: relative;z-index: 1;}#sk-container-id-1 div.sk-parallel {display: flex;align-items: stretch;justify-content: center;background-color: white;position: relative;}#sk-container-id-1 div.sk-item::before, #sk-container-id-1 div.sk-parallel-item::before {content: \"\";position: absolute;border-left: 1px solid gray;box-sizing: border-box;top: 0;bottom: 0;left: 50%;z-index: -1;}#sk-container-id-1 div.sk-parallel-item {display: flex;flex-direction: column;z-index: 1;position: relative;background-color: white;}#sk-container-id-1 div.sk-parallel-item:first-child::after {align-self: flex-end;width: 50%;}#sk-container-id-1 div.sk-parallel-item:last-child::after {align-self: flex-start;width: 50%;}#sk-container-id-1 div.sk-parallel-item:only-child::after {width: 0;}#sk-container-id-1 div.sk-dashed-wrapped {border: 1px dashed gray;margin: 0 0.4em 0.5em 0.4em;box-sizing: border-box;padding-bottom: 0.4em;background-color: white;}#sk-container-id-1 div.sk-label label {font-family: monospace;font-weight: bold;display: inline-block;line-height: 1.2em;}#sk-container-id-1 div.sk-label-container {text-align: center;}#sk-container-id-1 div.sk-container {/* jupyter's `normalize.less` sets `[hidden] { display: none; }` but bootstrap.min.css set `[hidden] { display: none !important; }` so we also need the `!important` here to be able to override the default hidden behavior on the sphinx rendered scikit-learn.org. See: https://github.com/scikit-learn/scikit-learn/issues/21755 */display: inline-block !important;position: relative;}#sk-container-id-1 div.sk-text-repr-fallback {display: none;}</style><div id=\"sk-container-id-1\" class=\"sk-top-container\"><div class=\"sk-text-repr-fallback\"><pre>LinearRegression()</pre><b>In a Jupyter environment, please rerun this cell to show the HTML representation or trust the notebook. <br />On GitHub, the HTML representation is unable to render, please try loading this page with nbviewer.org.</b></div><div class=\"sk-container\" hidden><div class=\"sk-item\"><div class=\"sk-estimator sk-toggleable\"><input class=\"sk-toggleable__control sk-hidden--visually\" id=\"sk-estimator-id-1\" type=\"checkbox\" checked><label for=\"sk-estimator-id-1\" class=\"sk-toggleable__label sk-toggleable__label-arrow\">LinearRegression</label><div class=\"sk-toggleable__content\"><pre>LinearRegression()</pre></div></div></div></div></div>"
      ],
      "text/plain": [
       "LinearRegression()"
      ]
     },
     "execution_count": 37,
     "metadata": {},
     "output_type": "execute_result"
    }
   ],
   "source": [
    "model = LinearRegression()\n",
    "model.fit(X_train, y_train)"
   ]
  },
  {
   "cell_type": "code",
   "execution_count": 38,
   "id": "cd8972d4-a6dc-4f31-b9a1-76573bc3d512",
   "metadata": {},
   "outputs": [
    {
     "name": "stdout",
     "output_type": "stream",
     "text": [
      "RMSE for train =  200157349.80320567\n",
      "RMSE for test =  303212422.7594079\n"
     ]
    }
   ],
   "source": [
    "y_pred_tr = model.predict(X_train)\n",
    "y_pred = model.predict(X_test)\n",
    "error_tr = np.sqrt(mean_squared_error(y_train, y_pred_tr))\n",
    "error_test = np.sqrt(mean_squared_error(y_test, y_pred))\n",
    "print('RMSE for train = ',error_tr)\n",
    "print('RMSE for test = ',error_test)"
   ]
  },
  {
   "cell_type": "code",
   "execution_count": 41,
   "id": "99f05b90-af96-44f4-8717-baf0848e85e6",
   "metadata": {},
   "outputs": [
    {
     "name": "stdout",
     "output_type": "stream",
     "text": [
      "R2 for train =  0.05263179476022728\n",
      "R2 for test =  0.07200666425378655\n"
     ]
    }
   ],
   "source": [
    "r2_train = r2_score(y_train, y_pred_tr)\n",
    "r2_test = r2_score(y_test, y_pred)\n",
    "\n",
    "print('R2 for train = ', r2_train)\n",
    "print('R2 for test = ', r2_test)"
   ]
  },
  {
   "cell_type": "code",
   "execution_count": null,
   "id": "69ff79e8-d571-4ff4-8836-ff3007097e6f",
   "metadata": {},
   "outputs": [],
   "source": []
  },
  {
   "cell_type": "code",
   "execution_count": 45,
   "id": "d87c0443-d0bc-4e85-a989-08c7b65ba01d",
   "metadata": {},
   "outputs": [],
   "source": [
    "#Trying Random Forest Regression"
   ]
  },
  {
   "cell_type": "code",
   "execution_count": null,
   "id": "8fb7a68d-748a-42b8-93dd-325cae62e7f6",
   "metadata": {},
   "outputs": [],
   "source": []
  },
  {
   "cell_type": "code",
   "execution_count": 43,
   "id": "0f7d6a53-5378-45bb-96f5-35ab70623100",
   "metadata": {},
   "outputs": [],
   "source": [
    "from sklearn.ensemble import RandomForestRegressor"
   ]
  },
  {
   "cell_type": "code",
   "execution_count": 44,
   "id": "5397154c-ede3-4d75-863a-931a108e61ab",
   "metadata": {},
   "outputs": [],
   "source": [
    "ct = ColumnTransformer(\n",
    "    transformers=[\n",
    "        ('encoder', OneHotEncoder(), categorical_features),\n",
    "        ('scaler', StandardScaler(), numerical_features)\n",
    "    ],\n",
    "    remainder='passthrough'\n",
    ")"
   ]
  },
  {
   "cell_type": "code",
   "execution_count": 46,
   "id": "62c3634e-cb08-4676-ab0d-b867767d62d8",
   "metadata": {},
   "outputs": [],
   "source": [
    "X_encoded = ct.fit_transform(X)\n",
    "X_train, X_test, y_train, y_test = train_test_split(X_encoded, y, test_size=0.2, random_state=42)"
   ]
  },
  {
   "cell_type": "code",
   "execution_count": 47,
   "id": "53a26080-0e45-418c-af2b-b001c11049ef",
   "metadata": {},
   "outputs": [
    {
     "data": {
      "text/html": [
       "<style>#sk-container-id-2 {color: black;background-color: white;}#sk-container-id-2 pre{padding: 0;}#sk-container-id-2 div.sk-toggleable {background-color: white;}#sk-container-id-2 label.sk-toggleable__label {cursor: pointer;display: block;width: 100%;margin-bottom: 0;padding: 0.3em;box-sizing: border-box;text-align: center;}#sk-container-id-2 label.sk-toggleable__label-arrow:before {content: \"▸\";float: left;margin-right: 0.25em;color: #696969;}#sk-container-id-2 label.sk-toggleable__label-arrow:hover:before {color: black;}#sk-container-id-2 div.sk-estimator:hover label.sk-toggleable__label-arrow:before {color: black;}#sk-container-id-2 div.sk-toggleable__content {max-height: 0;max-width: 0;overflow: hidden;text-align: left;background-color: #f0f8ff;}#sk-container-id-2 div.sk-toggleable__content pre {margin: 0.2em;color: black;border-radius: 0.25em;background-color: #f0f8ff;}#sk-container-id-2 input.sk-toggleable__control:checked~div.sk-toggleable__content {max-height: 200px;max-width: 100%;overflow: auto;}#sk-container-id-2 input.sk-toggleable__control:checked~label.sk-toggleable__label-arrow:before {content: \"▾\";}#sk-container-id-2 div.sk-estimator input.sk-toggleable__control:checked~label.sk-toggleable__label {background-color: #d4ebff;}#sk-container-id-2 div.sk-label input.sk-toggleable__control:checked~label.sk-toggleable__label {background-color: #d4ebff;}#sk-container-id-2 input.sk-hidden--visually {border: 0;clip: rect(1px 1px 1px 1px);clip: rect(1px, 1px, 1px, 1px);height: 1px;margin: -1px;overflow: hidden;padding: 0;position: absolute;width: 1px;}#sk-container-id-2 div.sk-estimator {font-family: monospace;background-color: #f0f8ff;border: 1px dotted black;border-radius: 0.25em;box-sizing: border-box;margin-bottom: 0.5em;}#sk-container-id-2 div.sk-estimator:hover {background-color: #d4ebff;}#sk-container-id-2 div.sk-parallel-item::after {content: \"\";width: 100%;border-bottom: 1px solid gray;flex-grow: 1;}#sk-container-id-2 div.sk-label:hover label.sk-toggleable__label {background-color: #d4ebff;}#sk-container-id-2 div.sk-serial::before {content: \"\";position: absolute;border-left: 1px solid gray;box-sizing: border-box;top: 0;bottom: 0;left: 50%;z-index: 0;}#sk-container-id-2 div.sk-serial {display: flex;flex-direction: column;align-items: center;background-color: white;padding-right: 0.2em;padding-left: 0.2em;position: relative;}#sk-container-id-2 div.sk-item {position: relative;z-index: 1;}#sk-container-id-2 div.sk-parallel {display: flex;align-items: stretch;justify-content: center;background-color: white;position: relative;}#sk-container-id-2 div.sk-item::before, #sk-container-id-2 div.sk-parallel-item::before {content: \"\";position: absolute;border-left: 1px solid gray;box-sizing: border-box;top: 0;bottom: 0;left: 50%;z-index: -1;}#sk-container-id-2 div.sk-parallel-item {display: flex;flex-direction: column;z-index: 1;position: relative;background-color: white;}#sk-container-id-2 div.sk-parallel-item:first-child::after {align-self: flex-end;width: 50%;}#sk-container-id-2 div.sk-parallel-item:last-child::after {align-self: flex-start;width: 50%;}#sk-container-id-2 div.sk-parallel-item:only-child::after {width: 0;}#sk-container-id-2 div.sk-dashed-wrapped {border: 1px dashed gray;margin: 0 0.4em 0.5em 0.4em;box-sizing: border-box;padding-bottom: 0.4em;background-color: white;}#sk-container-id-2 div.sk-label label {font-family: monospace;font-weight: bold;display: inline-block;line-height: 1.2em;}#sk-container-id-2 div.sk-label-container {text-align: center;}#sk-container-id-2 div.sk-container {/* jupyter's `normalize.less` sets `[hidden] { display: none; }` but bootstrap.min.css set `[hidden] { display: none !important; }` so we also need the `!important` here to be able to override the default hidden behavior on the sphinx rendered scikit-learn.org. See: https://github.com/scikit-learn/scikit-learn/issues/21755 */display: inline-block !important;position: relative;}#sk-container-id-2 div.sk-text-repr-fallback {display: none;}</style><div id=\"sk-container-id-2\" class=\"sk-top-container\"><div class=\"sk-text-repr-fallback\"><pre>RandomForestRegressor(min_samples_split=5, n_estimators=200)</pre><b>In a Jupyter environment, please rerun this cell to show the HTML representation or trust the notebook. <br />On GitHub, the HTML representation is unable to render, please try loading this page with nbviewer.org.</b></div><div class=\"sk-container\" hidden><div class=\"sk-item\"><div class=\"sk-estimator sk-toggleable\"><input class=\"sk-toggleable__control sk-hidden--visually\" id=\"sk-estimator-id-2\" type=\"checkbox\" checked><label for=\"sk-estimator-id-2\" class=\"sk-toggleable__label sk-toggleable__label-arrow\">RandomForestRegressor</label><div class=\"sk-toggleable__content\"><pre>RandomForestRegressor(min_samples_split=5, n_estimators=200)</pre></div></div></div></div></div>"
      ],
      "text/plain": [
       "RandomForestRegressor(min_samples_split=5, n_estimators=200)"
      ]
     },
     "execution_count": 47,
     "metadata": {},
     "output_type": "execute_result"
    }
   ],
   "source": [
    "model = RandomForestRegressor()\n",
    "\n",
    "param_grid = {\n",
    "    'n_estimators': [100, 200],\n",
    "    'max_depth': [None, 10, 20],\n",
    "    'min_samples_split': [2, 5],\n",
    "}\n",
    "\n",
    "grid_search = GridSearchCV(estimator=model, param_grid=param_grid, cv=3, n_jobs=-1, scoring='neg_mean_squared_error')\n",
    "grid_search.fit(X_train, y_train)\n",
    "\n",
    "best_model = grid_search.best_estimator_\n",
    "\n",
    "best_model.fit(X_train, y_train)"
   ]
  },
  {
   "cell_type": "code",
   "execution_count": 48,
   "id": "f58da4c7-3873-4981-9689-6ebc55eda958",
   "metadata": {},
   "outputs": [],
   "source": [
    "y_train_pred = best_model.predict(X_train)\n",
    "y_test_pred = best_model.predict(X_test)"
   ]
  },
  {
   "cell_type": "code",
   "execution_count": 51,
   "id": "22d84710-cfa7-481f-b0ae-8d88e2da7926",
   "metadata": {},
   "outputs": [
    {
     "name": "stdout",
     "output_type": "stream",
     "text": [
      "Train RMSE: 358524.78189403616\n",
      "Test RMSE: 719744.1997192198\n",
      "R2 For Train: 0.9999969604164771\n",
      "R2 For Test: 0.9999947711374764\n"
     ]
    }
   ],
   "source": [
    "train_rmse = np.sqrt(mean_squared_error(y_train, y_train_pred))\n",
    "test_rmse = np.sqrt(mean_squared_error(y_test, y_test_pred))\n",
    "train_r2 = r2_score(y_train, y_train_pred)\n",
    "test_r2 = r2_score(y_test, y_test_pred)\n",
    "\n",
    "print(f'Train RMSE: {train_rmse}')\n",
    "print(f'Test RMSE: {test_rmse}')\n",
    "print(f'R2 For Train: {train_r2}')\n",
    "print(f'R2 For Test: {test_r2}')"
   ]
  },
  {
   "cell_type": "code",
   "execution_count": 58,
   "id": "eb0dab7b-cab2-483f-8895-1a4e0e813576",
   "metadata": {},
   "outputs": [
    {
     "data": {
      "image/png": "[encoded data removed]",
      "text/plain": [
       "<Figure size 640x480 with 1 Axes>"
      ]
     },
     "metadata": {},
     "output_type": "display_data"
    }
   ],
   "source": [
    "import matplotlib.pyplot as plt\n",
    "\n",
    "residuals = y_test - y_test_pred\n",
    "plt.scatter(y_test, residuals, alpha=0.5)\n",
    "plt.axhline(y=0, color='red', linestyle='--')\n",
    "plt.xlabel('True Values')\n",
    "plt.ylabel('Residuals')\n",
    "plt.title('Residuals Plot')\n",
    "plt.show()\n"
   ]
  },
  {
   "cell_type": "code",
   "execution_count": null,
   "id": "98d64325-69f6-4ce2-b6e0-ee894e6f4685",
   "metadata": {},
   "outputs": [],
   "source": []
  },
  {
   "cell_type": "code",
   "execution_count": 86,
   "id": "c679852e-5b37-4814-9035-468fae9d8d14",
   "metadata": {},
   "outputs": [],
   "source": [
    "#Many Outliers"
   ]
  },
  {
   "cell_type": "code",
   "execution_count": null,
   "id": "78dc4acc-88a1-4ae5-a510-8329d77b35db",
   "metadata": {},
   "outputs": [],
   "source": []
  },
  {
   "cell_type": "code",
   "execution_count": 68,
   "id": "daf5451f-033a-4b31-b745-8569394faa54",
   "metadata": {},
   "outputs": [],
   "source": [
    "import numpy as np\n",
    "import pandas as pd\n",
    "from sklearn.model_selection import train_test_split, GridSearchCV\n",
    "from sklearn.linear_model import LinearRegression\n",
    "from sklearn.metrics import mean_squared_error, r2_score\n",
    "from sklearn.compose import ColumnTransformer\n",
    "from sklearn.pipeline import Pipeline\n",
    "from sklearn.preprocessing import StandardScaler, OneHotEncoder, OrdinalEncoder\n",
    "from sklearn.impute import SimpleImputer\n",
    "import matplotlib.pyplot as plt"
   ]
  },
  {
   "cell_type": "code",
   "execution_count": 78,
   "id": "5f79187e-c48c-415c-b629-371e96f95643",
   "metadata": {},
   "outputs": [],
   "source": [
    "# Assume X and y are your features and target variable\n",
    "categorical_columns = ['Land_location', 'Soil_type', 'Pollution']\n",
    "binary_columns = ['Special_location', 'Utilities_Availability']\n",
    "numeric_columns = ['Land_area']\n",
    "\n",
    "# Split data into training and test sets\n",
    "X_train, X_test, y_train, y_test = train_test_split(X, y, test_size=0.2, random_state=42)"
   ]
  },
  {
   "cell_type": "code",
   "execution_count": 79,
   "id": "2f84f2ac-a0a0-43ff-829e-453405cce600",
   "metadata": {},
   "outputs": [],
   "source": [
    "# Preprocessing for numeric features\n",
    "numeric_imputer = SimpleImputer(strategy='mean')\n",
    "X_train_numeric = numeric_imputer.fit_transform(X_train[numeric_columns])\n",
    "X_test_numeric = numeric_imputer.transform(X_test[numeric_columns])\n",
    "\n",
    "scaler = StandardScaler()\n",
    "X_train_numeric = scaler.fit_transform(X_train_numeric)\n",
    "X_test_numeric = scaler.transform(X_test_numeric)\n",
    "\n",
    "# Preprocessing for binary features\n",
    "binary_imputer = SimpleImputer(strategy='most_frequent')\n",
    "X_train_binary = binary_imputer.fit_transform(X_train[binary_columns])\n",
    "X_test_binary = binary_imputer.transform(X_test[binary_columns])\n",
    "\n",
    "binary_encoder = OrdinalEncoder()\n",
    "X_train_binary = binary_encoder.fit_transform(X_train_binary)\n",
    "X_test_binary = binary_encoder.transform(X_test_binary)\n",
    "\n",
    "# Preprocessing for categorical features\n",
    "categorical_imputer = SimpleImputer(strategy='most_frequent')\n",
    "X_train_categorical = categorical_imputer.fit_transform(X_train[categorical_columns])\n",
    "X_test_categorical = categorical_imputer.transform(X_test[categorical_columns])\n",
    "\n",
    "onehot_encoder = OneHotEncoder(handle_unknown='ignore')\n",
    "X_train_categorical = onehot_encoder.fit_transform(X_train_categorical).toarray()\n",
    "X_test_categorical = onehot_encoder.transform(X_test_categorical).toarray()\n",
    "\n",
    "# Preprocessing for ordinal features\n",
    "ordinal_imputer = SimpleImputer(strategy='most_frequent')\n",
    "X_train_pollution = ordinal_imputer.fit_transform(X_train[['Pollution']])\n",
    "X_test_pollution = ordinal_imputer.transform(X_test[['Pollution']])\n",
    "\n",
    "ordinal_encoder = OrdinalEncoder(categories=[['Low', 'Medium', 'High']])\n",
    "X_train_pollution = ordinal_encoder.fit_transform(X_train_pollution)\n",
    "X_test_pollution = ordinal_encoder.transform(X_test_pollution)"
   ]
  },
  {
   "cell_type": "code",
   "execution_count": 80,
   "id": "ec50a0d8-bac3-411a-992e-3aa9909ca534",
   "metadata": {},
   "outputs": [],
   "source": [
    "# Combine all preprocessed features\n",
    "X_train_preprocessed = np.hstack([X_train_numeric, X_train_binary, X_train_categorical, X_train_pollution])\n",
    "X_test_preprocessed = np.hstack([X_test_numeric, X_test_binary, X_test_categorical, X_test_pollution])"
   ]
  },
  {
   "cell_type": "code",
   "execution_count": 81,
   "id": "36fbf1ca-938a-401a-8587-74a55235f79c",
   "metadata": {},
   "outputs": [
    {
     "data": {
      "text/html": [
       "<style>#sk-container-id-4 {color: black;background-color: white;}#sk-container-id-4 pre{padding: 0;}#sk-container-id-4 div.sk-toggleable {background-color: white;}#sk-container-id-4 label.sk-toggleable__label {cursor: pointer;display: block;width: 100%;margin-bottom: 0;padding: 0.3em;box-sizing: border-box;text-align: center;}#sk-container-id-4 label.sk-toggleable__label-arrow:before {content: \"▸\";float: left;margin-right: 0.25em;color: #696969;}#sk-container-id-4 label.sk-toggleable__label-arrow:hover:before {color: black;}#sk-container-id-4 div.sk-estimator:hover label.sk-toggleable__label-arrow:before {color: black;}#sk-container-id-4 div.sk-toggleable__content {max-height: 0;max-width: 0;overflow: hidden;text-align: left;background-color: #f0f8ff;}#sk-container-id-4 div.sk-toggleable__content pre {margin: 0.2em;color: black;border-radius: 0.25em;background-color: #f0f8ff;}#sk-container-id-4 input.sk-toggleable__control:checked~div.sk-toggleable__content {max-height: 200px;max-width: 100%;overflow: auto;}#sk-container-id-4 input.sk-toggleable__control:checked~label.sk-toggleable__label-arrow:before {content: \"▾\";}#sk-container-id-4 div.sk-estimator input.sk-toggleable__control:checked~label.sk-toggleable__label {background-color: #d4ebff;}#sk-container-id-4 div.sk-label input.sk-toggleable__control:checked~label.sk-toggleable__label {background-color: #d4ebff;}#sk-container-id-4 input.sk-hidden--visually {border: 0;clip: rect(1px 1px 1px 1px);clip: rect(1px, 1px, 1px, 1px);height: 1px;margin: -1px;overflow: hidden;padding: 0;position: absolute;width: 1px;}#sk-container-id-4 div.sk-estimator {font-family: monospace;background-color: #f0f8ff;border: 1px dotted black;border-radius: 0.25em;box-sizing: border-box;margin-bottom: 0.5em;}#sk-container-id-4 div.sk-estimator:hover {background-color: #d4ebff;}#sk-container-id-4 div.sk-parallel-item::after {content: \"\";width: 100%;border-bottom: 1px solid gray;flex-grow: 1;}#sk-container-id-4 div.sk-label:hover label.sk-toggleable__label {background-color: #d4ebff;}#sk-container-id-4 div.sk-serial::before {content: \"\";position: absolute;border-left: 1px solid gray;box-sizing: border-box;top: 0;bottom: 0;left: 50%;z-index: 0;}#sk-container-id-4 div.sk-serial {display: flex;flex-direction: column;align-items: center;background-color: white;padding-right: 0.2em;padding-left: 0.2em;position: relative;}#sk-container-id-4 div.sk-item {position: relative;z-index: 1;}#sk-container-id-4 div.sk-parallel {display: flex;align-items: stretch;justify-content: center;background-color: white;position: relative;}#sk-container-id-4 div.sk-item::before, #sk-container-id-4 div.sk-parallel-item::before {content: \"\";position: absolute;border-left: 1px solid gray;box-sizing: border-box;top: 0;bottom: 0;left: 50%;z-index: -1;}#sk-container-id-4 div.sk-parallel-item {display: flex;flex-direction: column;z-index: 1;position: relative;background-color: white;}#sk-container-id-4 div.sk-parallel-item:first-child::after {align-self: flex-end;width: 50%;}#sk-container-id-4 div.sk-parallel-item:last-child::after {align-self: flex-start;width: 50%;}#sk-container-id-4 div.sk-parallel-item:only-child::after {width: 0;}#sk-container-id-4 div.sk-dashed-wrapped {border: 1px dashed gray;margin: 0 0.4em 0.5em 0.4em;box-sizing: border-box;padding-bottom: 0.4em;background-color: white;}#sk-container-id-4 div.sk-label label {font-family: monospace;font-weight: bold;display: inline-block;line-height: 1.2em;}#sk-container-id-4 div.sk-label-container {text-align: center;}#sk-container-id-4 div.sk-container {/* jupyter's `normalize.less` sets `[hidden] { display: none; }` but bootstrap.min.css set `[hidden] { display: none !important; }` so we also need the `!important` here to be able to override the default hidden behavior on the sphinx rendered scikit-learn.org. See: https://github.com/scikit-learn/scikit-learn/issues/21755 */display: inline-block !important;position: relative;}#sk-container-id-4 div.sk-text-repr-fallback {display: none;}</style><div id=\"sk-container-id-4\" class=\"sk-top-container\"><div class=\"sk-text-repr-fallback\"><pre>LinearRegression()</pre><b>In a Jupyter environment, please rerun this cell to show the HTML representation or trust the notebook. <br />On GitHub, the HTML representation is unable to render, please try loading this page with nbviewer.org.</b></div><div class=\"sk-container\" hidden><div class=\"sk-item\"><div class=\"sk-estimator sk-toggleable\"><input class=\"sk-toggleable__control sk-hidden--visually\" id=\"sk-estimator-id-18\" type=\"checkbox\" checked><label for=\"sk-estimator-id-18\" class=\"sk-toggleable__label sk-toggleable__label-arrow\">LinearRegression</label><div class=\"sk-toggleable__content\"><pre>LinearRegression()</pre></div></div></div></div></div>"
      ],
      "text/plain": [
       "LinearRegression()"
      ]
     },
     "execution_count": 81,
     "metadata": {},
     "output_type": "execute_result"
    }
   ],
   "source": [
    "# Train the model\n",
    "model = LinearRegression()\n",
    "model.fit(X_train_preprocessed, y_train)"
   ]
  },
  {
   "cell_type": "code",
   "execution_count": 82,
   "id": "25b103c3-5ed5-42ae-aeb7-bfdfc03a2317",
   "metadata": {},
   "outputs": [],
   "source": [
    "# Predictions\n",
    "y_train_pred = model.predict(X_train_preprocessed)\n",
    "y_test_pred = model.predict(X_test_preprocessed)"
   ]
  },
  {
   "cell_type": "code",
   "execution_count": 84,
   "id": "ec1f8ca8-a7f9-4bb9-b64b-94ca0f5d4e07",
   "metadata": {},
   "outputs": [
    {
     "name": "stdout",
     "output_type": "stream",
     "text": [
      "Train RMSE: 0.5769061010704389\n",
      "Test RMSE: 0.595626061849134\n",
      "Train R2 Score: 0.7216909198960226\n",
      "Test R2 Score: 0.7059419950932031\n"
     ]
    }
   ],
   "source": [
    "# Evaluate RMSE and R²\n",
    "train_rmse = np.sqrt(mean_squared_error(y_train, y_train_pred))\n",
    "test_rmse = np.sqrt(mean_squared_error(y_test, y_test_pred))\n",
    "train_r2 = r2_score(y_train, y_train_pred)\n",
    "test_r2 = r2_score(y_test, y_test_pred)\n",
    "\n",
    "print(f'Train RMSE: {train_rmse}')\n",
    "print(f'Test RMSE: {test_rmse}')\n",
    "print(f'Train R2 Score: {train_r2}')\n",
    "print(f'Test R2 Score: {test_r2}')"
   ]
  },
  {
   "cell_type": "code",
   "execution_count": 85,
   "id": "b8ea8b8f-0dbb-41a0-8ac4-651764906a89",
   "metadata": {},
   "outputs": [
    {
     "data": {
      "image/png": "[encoded data removed]",
      "text/plain": [
       "<Figure size 640x480 with 1 Axes>"
      ]
     },
     "metadata": {},
     "output_type": "display_data"
    }
   ],
   "source": [
    "# Residuals Plot\n",
    "residuals = y_test - y_test_pred\n",
    "plt.scatter(y_test, residuals, alpha=0.5)\n",
    "plt.axhline(y=0, color='red', linestyle='--')\n",
    "plt.xlabel('True Values')\n",
    "plt.ylabel('Residuals')\n",
    "plt.title('Residuals Plot')\n",
    "plt.show()\n"
   ]
  },
  {
   "cell_type": "code",
   "execution_count": null,
   "id": "ec33dfc0-4d9a-4d73-92be-595f18fadd17",
   "metadata": {},
   "outputs": [],
   "source": []
  }
 ],
 "metadata": {
  "kernelspec": {
   "display_name": "Python 3 (ipykernel)",
   "language": "python",
   "name": "python3"
  },
  "language_info": {
   "codemirror_mode": {
    "name": "ipython",
    "version": 3
   },
   "file_extension": ".py",
   "mimetype": "text/x-python",
   "name": "python",
   "nbconvert_exporter": "python",
   "pygments_lexer": "ipython3",
   "version": "3.11.7"
  }
 },
 "nbformat": 4,
 "nbformat_minor": 5
}
