{
 "cells": [
  {
   "cell_type": "markdown",
   "metadata": {},
   "source": [
    "DensNet Model"
   ]
  },
  {
   "cell_type": "code",
   "execution_count": null,
   "metadata": {},
   "outputs": [],
   "source": [
    "import os\n",
    "import numpy as np\n",
    "import tensorflow as tf\n",
    "import pandas as pd\n",
    "from tensorflow.keras.utils import load_img, img_to_array\n",
    "from tensorflow.keras.models import Sequential\n",
    "from tensorflow.keras.layers import Conv2D, MaxPooling2D, Flatten, Dense, Dropout\n",
    "from tensorflow.keras.optimizers import Adam\n",
    "from sklearn.model_selection import train_test_split\n",
    "from tensorflow.keras.preprocessing.image import ImageDataGenerator\n",
    "from tensorflow.keras.callbacks import EarlyStopping"
   ]
  },
  {
   "cell_type": "code",
   "execution_count": 2,
   "metadata": {},
   "outputs": [
    {
     "name": "stdout",
     "output_type": "stream",
     "text": [
      "    Lands     Land_location  Land_area Special_location Soil_type  \\\n",
      "0  Land_1  New Capital City      383.0              Yes    Gravel   \n",
      "1  Land_2  New Capital City      384.0              Yes    Gravel   \n",
      "2  Land_3  New Capital City      385.0              Yes    Gravel   \n",
      "3  Land_4  New Capital City      386.0              Yes    Gravel   \n",
      "4  Land_5  New Capital City      387.0              Yes    Gravel   \n",
      "\n",
      "  Utilities_Availability Pollution  Land_price  \n",
      "0                    Yes       Low    30000000  \n",
      "1                    Yes       Low    30000001  \n",
      "2                    Yes       Low    30000002  \n",
      "3                    Yes       Low    30000003  \n",
      "4                    Yes       Low    30000004  \n"
     ]
    }
   ],
   "source": [
    "data = pd.read_csv('E:\\\\Machine-Learning\\\\Project\\\\Cleaned_Lands.csv')\n",
    "print(data.head())"
   ]
  },
  {
   "cell_type": "code",
   "execution_count": null,
   "metadata": {},
   "outputs": [],
   "source": [
    "# Constants\n",
    "IMAGE_SIZE = (224, 224)  # Resize images to 224x224\n",
    "BATCH_SIZE = 32\n",
    "EPOCHS = 10\n",
    "LEARNING_RATE = 0.001"
   ]
  },
  {
   "cell_type": "code",
   "execution_count": 2,
   "metadata": {},
   "outputs": [],
   "source": [
    "# Load and Preprocess Data\n",
    "def load_data(image_dir):\n",
    "    \"\"\"Load images from a directory and preprocess them.\"\"\"\n",
    "    images = []\n",
    "    labels = []\n",
    "    for label_dir in os.listdir(image_dir):\n",
    "        label_path = os.path.join(image_dir, label_dir)\n",
    "        if os.path.isdir(label_path):\n",
    "            for image_file in os.listdir(label_path):\n",
    "                image_path = os.path.join(label_path, image_file)\n",
    "                try:\n",
    "                    # Load and preprocess image\n",
    "                    img = load_img(image_path, target_size=IMAGE_SIZE)\n",
    "                    img_array = img_to_array(img)\n",
    "                    images.append(img_array)\n",
    "                    labels.append(label_dir)\n",
    "                except Exception as e:\n",
    "                    print(f\"Error loading image {image_path}: {e}\")\n",
    "    return np.array(images), np.array(labels)\n"
   ]
  },
  {
   "cell_type": "code",
   "execution_count": 1,
   "metadata": {},
   "outputs": [
    {
     "name": "stdout",
     "output_type": "stream",
     "text": [
      "X_train: [[7, 8], [1, 2], [5, 6]]\n",
      "X_test: [[3, 4]]\n"
     ]
    }
   ],
   "source": [
    "# Build the Model\n",
    "\n",
    "def build_model():\n",
    "    \"\"\"Create a CNN model for image classification.\"\"\"\n",
    "    model = Sequential([\n",
    "        Conv2D(32, (3, 3), activation='relu', input_shape=(224, 224, 3)),\n",
    "        MaxPooling2D(pool_size=(2, 2)),\n",
    "        Conv2D(64, (3, 3), activation='relu'),\n",
    "        MaxPooling2D(pool_size=(2, 2)),\n",
    "        Conv2D(128, (3, 3), activation='relu'),\n",
    "        MaxPooling2D(pool_size=(2, 2)),\n",
    "        Flatten(),\n",
    "        Dense(128, activation='relu'),\n",
    "        Dropout(0.5),\n",
    "        Dense(1, activation='sigmoid')  # For binary classification; change to softmax for multiclass\n",
    "    ])\n",
    "    model.compile(optimizer=Adam(learning_rate=LEARNING_RATE),\n",
    "                  loss='binary_crossentropy',  # Change to 'sparse_categorical_crossentropy' for multiclass\n",
    "                  metrics=['accuracy'])\n",
    "    return model"
   ]
  },
  {
   "cell_type": "code",
   "execution_count": null,
   "metadata": {},
   "outputs": [],
   "source": [
    "# Train the model\n",
    "\n",
    "def train_model(model, X_train, y_train, X_val, y_val):\n",
    "    \"\"\"Train the model with the given data.\"\"\"\n",
    "    # Data augmentation\n",
    "    datagen = ImageDataGenerator(\n",
    "        rotation_range=20,\n",
    "        width_shift_range=0.2,\n",
    "        height_shift_range=0.2,\n",
    "        horizontal_flip=True\n",
    "    )\n",
    "    datagen.fit(X_train)\n",
    "\n",
    "    # Early stopping\n",
    "    early_stopping = EarlyStopping(monitor='val_loss', patience=3, restore_best_weights=True)\n",
    "\n",
    "    # Train the model\n",
    "    history = model.fit(\n",
    "        datagen.flow(X_train, y_train, batch_size=BATCH_SIZE),\n",
    "        validation_data=(X_val, y_val),\n",
    "        epochs=EPOCHS,\n",
    "        callbacks=[early_stopping]\n",
    "    )\n",
    "    return history"
   ]
  },
  {
   "cell_type": "code",
   "execution_count": 4,
   "metadata": {},
   "outputs": [],
   "source": [
    "# Main\n",
    "\n",
    "if __name__ == \"__main__\":\n",
    "    # Path to your dataset\n",
    "    image_dir = r\"E:\\Machine-Learning\\Project\\Images\"\n",
    "\n",
    "    # Step 1: Load and preprocess data\n",
    "    print(\"Loading data...\")\n",
    "    X, y = load_data(image_dir)\n",
    "    X = X / 255.0  # Normalize pixel values\n",
    "    y = np.array([1 if label == \"class1\" else 0 for label in y])  # Binary labels for simplicity\n",
    "\n",
    "    # Split the data into training and validation sets\n",
    "    X_train, X_val, y_train, y_val = train_test_split(X, y, test_size=0.2, random_state=42)\n",
    "\n",
    "    # Step 2: Build the model\n",
    "    print(\"Building model...\")\n",
    "    model = build_model()\n",
    "    model.summary()\n",
    "\n",
    "    # Step 3: Train the model\n",
    "    print(\"Training model...\")\n",
    "    history = train_model(model, X_train, y_train, X_val, y_val)\n",
    "\n",
    "    # Step 4: Save the trained model\n",
    "    print(\"Saving model...\")\n",
    "    model.save(r\"E:\\Machine-Learning\\Project\\image_classification_model.h5\")\n",
    "    print(\"Model saved as 'image_classification_model.h5'.\")"
   ]
  }
 ],
 "metadata": {
  "kernelspec": {
   "display_name": "tf-env",
   "language": "python",
   "name": "python3"
  },
  "language_info": {
   "codemirror_mode": {
    "name": "ipython",
    "version": 3
   },
   "file_extension": ".py",
   "mimetype": "text/x-python",
   "name": "python",
   "nbconvert_exporter": "python",
   "pygments_lexer": "ipython3",
   "version": "3.11.4"
  }
 },
 "nbformat": 4,
 "nbformat_minor": 2
}
